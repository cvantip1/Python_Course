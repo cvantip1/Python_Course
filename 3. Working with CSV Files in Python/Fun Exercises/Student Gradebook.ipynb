{
 "cells": [
  {
   "cell_type": "markdown",
   "metadata": {},
   "source": [
    "Objective: Create a program to manage a student gradebook. The user can add students with their scores for different subjects, and the program should calculate the average score for each student. All records should be saved to a CSV file, and the program should display a report with each student’s average score.\n",
    "\n",
    "Instructions:\n",
    "\n",
    "Create a CSV file named gradebook.csv with headers name, math, science, english.\n",
    "\n",
    "Write a function to add a new student’s scores for each subject. The program should calculate and display the student’s average score, then save the data to the CSV file.\n",
    "\n",
    "Write another function to display a report that lists each student’s name and their average score."
   ]
  },
  {
   "cell_type": "markdown",
   "metadata": {},
   "source": [
    "Prototype:\n",
    "\n",
    "Add a new student record\n",
    "\n",
    "Enter student name: Alice\n",
    "\n",
    "Enter math score: 85\n",
    "\n",
    "Enter science score: 90\n",
    "\n",
    "Enter english score: 88\n",
    "\n",
    "Alice's average score: 87.67\n",
    "\n",
    "Displaying gradebook report:\n",
    "\n",
    "{'name': 'Alice', 'average_score': '87.67'}\n",
    "\n",
    "{'name': 'Bob', 'average_score': '78.50'}\n"
   ]
  }
 ],
 "metadata": {
  "language_info": {
   "name": "python"
  }
 },
 "nbformat": 4,
 "nbformat_minor": 2
}
