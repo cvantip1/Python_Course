{
 "cells": [
  {
   "cell_type": "markdown",
   "metadata": {},
   "source": [
    "Objective: Build an expense tracker that records each transaction and calculates the total expenses. Users can add expenses with categories (e.g., \"Food\", \"Transportation\", \"Entertainment\"). The program should provide a summary of expenses by category and the total amount spent. All records should be saved to a CSV file.\n",
    "\n",
    "Instructions:\n",
    "\n",
    "Create a CSV file named expenses.csv with headers date, category, description, amount.\n",
    "\n",
    "Write a function to add a new expense entry by asking the user for the date, category, description, and amount. Save each entry to the CSV file.\n",
    "\n",
    "Write another function to display a summary of expenses, showing the total amount spent per category and the overall total."
   ]
  },
  {
   "cell_type": "markdown",
   "metadata": {},
   "source": [
    "Prototype:\n",
    "\n",
    "Add a new expense\n",
    "\n",
    "Enter date (YYYY-MM-DD): 2023-11-10\n",
    "\n",
    "Enter category (e.g., Food, Transportation, Entertainment): Food\n",
    "\n",
    "Enter description: Lunch\n",
    "\n",
    "Enter amount: 12.5\n",
    "\n",
    "Expense recorded!\n",
    "\n",
    "\n",
    "Displaying expense summary:\n",
    "\n",
    "Food: $32.5\n",
    "\n",
    "Transportation: $15.0\n",
    "\n",
    "Entertainment: $25.0\n",
    "\n",
    "Total expenses: $72.5\n"
   ]
  }
 ],
 "metadata": {
  "language_info": {
   "name": "python"
  }
 },
 "nbformat": 4,
 "nbformat_minor": 2
}
