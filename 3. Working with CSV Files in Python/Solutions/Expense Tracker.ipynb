{
 "cells": [
  {
   "cell_type": "code",
   "execution_count": null,
   "metadata": {},
   "outputs": [],
   "source": [
    "import csv\n",
    "from collections import defaultdict\n",
    "\n",
    "# Function to add a new expense\n",
    "def add_expense():\n",
    "    date = input(\"Enter date (YYYY-MM-DD): \")\n",
    "    category = input(\"Enter category (e.g., Food, Transportation, Entertainment): \")\n",
    "    description = input(\"Enter description: \")\n",
    "    amount = float(input(\"Enter amount: \"))\n",
    "    \n",
    "    # Save to CSV\n",
    "    with open('expenses.csv', mode='a', newline='') as file:\n",
    "        fieldnames = [\"date\", \"category\", \"description\", \"amount\"]\n",
    "        writer = csv.DictWriter(file, fieldnames=fieldnames)\n",
    "        writer.writerow({\"date\": date, \"category\": category, \"description\": description, \"amount\": amount})\n",
    "    \n",
    "    print(\"Expense recorded!\\n\")\n",
    "\n",
    "# Function to display expense summary\n",
    "def display_summary():\n",
    "    expenses_by_category = defaultdict(float)\n",
    "    total_expenses = 0\n",
    "\n",
    "    # Read data and calculate totals\n",
    "    with open('expenses.csv', mode='r') as file:\n",
    "        reader = csv.DictReader(file)\n",
    "        for row in reader:\n",
    "            category = row['category']\n",
    "            amount = float(row['amount'])\n",
    "            expenses_by_category[category] += amount\n",
    "            total_expenses += amount\n",
    "\n",
    "    # Display summary\n",
    "    print(\"\\nDisplaying expense summary:\")\n",
    "    for category, amount in expenses_by_category.items():\n",
    "        print(f\"{category}: ${amount:.2f}\")\n",
    "    print(f\"Total expenses: ${total_expenses:.2f}\")\n",
    "\n",
    "# Running the expense tracker\n",
    "while True:\n",
    "    print(\"\\n1. Add a new expense\")\n",
    "    print(\"2. Display expense summary\")\n",
    "    print(\"3. Quit\")\n",
    "    choice = input(\"Choose an option: \")\n",
    "\n",
    "    if choice == \"1\":\n",
    "        add_expense()\n",
    "    elif choice == \"2\":\n",
    "        display_summary()\n",
    "    elif choice == \"3\":\n",
    "        break\n",
    "    else:\n",
    "        print(\"Invalid choice. Please try again.\")\n"
   ]
  }
 ],
 "metadata": {
  "kernelspec": {
   "display_name": "Python 3",
   "language": "python",
   "name": "python3"
  },
  "language_info": {
   "name": "python",
   "version": "3.12.3"
  }
 },
 "nbformat": 4,
 "nbformat_minor": 2
}
