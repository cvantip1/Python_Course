{
 "cells": [
  {
   "cell_type": "code",
   "execution_count": null,
   "metadata": {},
   "outputs": [],
   "source": [
    "import csv\n",
    "\n",
    "# Function to add a student record\n",
    "def add_student():\n",
    "    name = input(\"Enter student name: \")\n",
    "    math = float(input(\"Enter math score: \"))\n",
    "    science = float(input(\"Enter science score: \"))\n",
    "    english = float(input(\"Enter english score: \"))\n",
    "    average_score = (math + science + english) / 3\n",
    "    print(f\"{name}'s average score: {average_score:.2f}\")\n",
    "\n",
    "    # Save to CSV\n",
    "    with open('gradebook.csv', mode='a', newline='') as file:\n",
    "        fieldnames = [\"name\", \"math\", \"science\", \"english\"]\n",
    "        writer = csv.DictWriter(file, fieldnames=fieldnames)\n",
    "        writer.writerow({\"name\": name, \"math\": math, \"science\": science, \"english\": english})\n",
    "\n",
    "# Function to display the gradebook report\n",
    "def display_gradebook():\n",
    "    with open('gradebook.csv', mode='r') as file:\n",
    "        reader = csv.DictReader(file)\n",
    "        print(\"\\nDisplaying gradebook report:\")\n",
    "        for row in reader:\n",
    "            name = row['name']\n",
    "            scores = [float(row['math']), float(row['science']), float(row['english'])]\n",
    "            average_score = sum(scores) / len(scores)\n",
    "            print({'name': name, 'average_score': f\"{average_score:.2f}\"})\n",
    "\n",
    "# Running the gradebook system\n",
    "while True:\n",
    "    print(\"\\n1. Add a new student record\")\n",
    "    print(\"2. Display gradebook report\")\n",
    "    print(\"3. Quit\")\n",
    "    choice = input(\"Choose an option: \")\n",
    "\n",
    "    if choice == \"1\":\n",
    "        add_student()\n",
    "    elif choice == \"2\":\n",
    "        display_gradebook()\n",
    "    elif choice == \"3\":\n",
    "        break\n",
    "    else:\n",
    "        print(\"Invalid choice. Please try again.\")\n"
   ]
  }
 ],
 "metadata": {
  "kernelspec": {
   "display_name": "Python 3",
   "language": "python",
   "name": "python3"
  },
  "language_info": {
   "name": "python",
   "version": "3.12.3"
  }
 },
 "nbformat": 4,
 "nbformat_minor": 2
}
