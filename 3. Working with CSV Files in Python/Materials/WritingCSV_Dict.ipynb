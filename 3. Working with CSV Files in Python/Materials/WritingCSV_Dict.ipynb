{
 "cells": [
  {
   "cell_type": "markdown",
   "metadata": {},
   "source": [
    "Topics:\n",
    "\n",
    "Writing dictionaries to a CSV file using csv.DictWriter.\n",
    "\n",
    "Ensuring that dictionary keys match the CSV file's headers."
   ]
  },
  {
   "cell_type": "code",
   "execution_count": null,
   "metadata": {},
   "outputs": [],
   "source": [
    "import csv\n",
    "\n",
    "# Data to write (list of dictionaries)\n",
    "students = [\n",
    "    {\"name\": \"Alice\", \"age\": 14, \"grade\": \"A\"},\n",
    "    {\"name\": \"Bob\", \"age\": 15, \"grade\": \"B\"},\n",
    "    {\"name\": \"Charlie\", \"age\": 13, \"grade\": \"C\"}\n",
    "]\n",
    "\n",
    "# Writing dictionaries to CSV\n",
    "with open('students_dict_output.csv', mode='w', newline='') as file:\n",
    "    fieldnames = [\"name\", \"age\", \"grade\"]\n",
    "    csv_writer = csv.DictWriter(file, fieldnames=fieldnames)\n",
    "    csv_writer.writeheader()\n",
    "    csv_writer.writerows(students)\n",
    "\n",
    "print(\"Data written to students_dict_output.csv\")\n"
   ]
  },
  {
   "cell_type": "markdown",
   "metadata": {},
   "source": [
    "Basic Exercises:\n",
    "\n",
    "Write a program that collects information about fruits (name, color, price) and saves it to fruits.csv.\n",
    "\n",
    "Create a program that collects user information (name, email, age) and saves it to users.csv."
   ]
  }
 ],
 "metadata": {
  "kernelspec": {
   "display_name": "Python 3",
   "language": "python",
   "name": "python3"
  },
  "language_info": {
   "name": "python",
   "version": "3.12.3"
  }
 },
 "nbformat": 4,
 "nbformat_minor": 2
}
