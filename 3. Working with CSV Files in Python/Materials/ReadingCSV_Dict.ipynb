{
 "cells": [
  {
   "cell_type": "markdown",
   "metadata": {},
   "source": [
    "Topics:\n",
    "\n",
    "Reading a CSV file with csv.DictReader.\n",
    "\n",
    "Converting each row to a dictionary with keys from the header row."
   ]
  },
  {
   "cell_type": "code",
   "execution_count": null,
   "metadata": {},
   "outputs": [],
   "source": [
    "import csv\n",
    "\n",
    "# Reading CSV data into a list of dictionaries\n",
    "with open('students.csv', mode='r') as file:\n",
    "    csv_reader = csv.DictReader(file)\n",
    "    students = [row for row in csv_reader]\n",
    "\n",
    "# Displaying each student's information\n",
    "for student in students:\n",
    "    print(student)\n"
   ]
  },
  {
   "cell_type": "markdown",
   "metadata": {},
   "source": [
    "Exercises:\n",
    "\n",
    "Create a CSV file named inventory.csv with columns item, quantity, price. Write a program to read it as a dictionary and display each item.\n",
    "\n",
    "Modify employees.csv to add headers name, department, salary. Write a program to read it using csv.DictReader and print each employee's information."
   ]
  }
 ],
 "metadata": {
  "kernelspec": {
   "display_name": "Python 3",
   "language": "python",
   "name": "python3"
  },
  "language_info": {
   "name": "python",
   "version": "3.12.3"
  }
 },
 "nbformat": 4,
 "nbformat_minor": 2
}
