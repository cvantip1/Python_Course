{
 "cells": [
  {
   "cell_type": "markdown",
   "metadata": {},
   "source": [
    "Topics:\n",
    "\n",
    "Writing data to a CSV file using csv.writer.\n",
    "\n",
    "Writing lists as rows to a CSV file."
   ]
  },
  {
   "cell_type": "code",
   "execution_count": null,
   "metadata": {},
   "outputs": [],
   "source": [
    "import csv\n",
    "\n",
    "# Data to write to CSV\n",
    "students = [\n",
    "    [\"name\", \"age\", \"grade\"],\n",
    "    [\"Alice\", 14, \"A\"],\n",
    "    [\"Bob\", 15, \"B\"],\n",
    "    [\"Charlie\", 13, \"C\"]\n",
    "]\n",
    "\n",
    "# Writing data to a CSV file\n",
    "with open('students_output.csv', mode='w', newline='') as file:\n",
    "    csv_writer = csv.writer(file)\n",
    "    csv_writer.writerows(students)\n",
    "\n",
    "print(\"Data written to students_output.csv\")\n"
   ]
  },
  {
   "cell_type": "markdown",
   "metadata": {},
   "source": [
    "Exercises:\n",
    "\n",
    "Write a program that stores a list of cities with their respective countries in cities.csv.\n",
    "\n",
    "Create a program that stores a list of favorite movies (title, director, year) in movies.csv.\n"
   ]
  }
 ],
 "metadata": {
  "kernelspec": {
   "display_name": "Python 3",
   "language": "python",
   "name": "python3"
  },
  "language_info": {
   "name": "python",
   "version": "3.12.3"
  }
 },
 "nbformat": 4,
 "nbformat_minor": 2
}
