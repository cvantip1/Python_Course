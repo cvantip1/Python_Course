{
 "cells": [
  {
   "cell_type": "code",
   "execution_count": null,
   "metadata": {},
   "outputs": [],
   "source": [
    "# Movie options based on genre\n",
    "movie_recommendations = {\n",
    "    \"action\": \"Mad Max: Fury Road\",\n",
    "    \"comedy\": \"The Grand Budapest Hotel\",\n",
    "    \"drama\": \"The Shawshank Redemption\"\n",
    "}\n",
    "\n",
    "# Start the game\n",
    "def movie_night():\n",
    "    print(\"Welcome to Movie Night!\")\n",
    "    genre = input(\"Choose a genre (action, comedy, drama): \").lower()\n",
    "\n",
    "    # Suggest a movie based on genre\n",
    "    if genre in movie_recommendations:\n",
    "        movie = movie_recommendations[genre]\n",
    "        print(f\"You should watch '{movie}'!\")\n",
    "    else:\n",
    "        print(\"Invalid genre! Please choose from action, comedy, or drama.\")\n",
    "        return  # Exit the game if the genre is invalid\n",
    "\n",
    "    # Let the user choose 3 snacks\n",
    "    snacks = []\n",
    "    for i in range(3):\n",
    "        snack = input(f\"Select your snack {i + 1}: \").lower()\n",
    "        snacks.append(snack)\n",
    "        print(f\"{snack.capitalize()} added to your list.\")\n",
    "\n",
    "    # Final list of snacks\n",
    "    print(f\"\\nYour snack list: {snacks}\")\n",
    "    print(f\"Enjoy your movie night with '{movie}' and your snacks!\")\n",
    "\n",
    "# Run the game\n",
    "movie_night()\n"
   ]
  }
 ],
 "metadata": {
  "kernelspec": {
   "display_name": "Python 3",
   "language": "python",
   "name": "python3"
  },
  "language_info": {
   "name": "python",
   "version": "3.12.3"
  }
 },
 "nbformat": 4,
 "nbformat_minor": 2
}
