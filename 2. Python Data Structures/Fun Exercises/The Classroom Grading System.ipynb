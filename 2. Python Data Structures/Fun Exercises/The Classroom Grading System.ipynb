{
 "cells": [
  {
   "cell_type": "markdown",
   "metadata": {},
   "source": [
    "Objective: The user manages a list of students and their corresponding grades. The program should allow the user to add new students, assign grades, and display the average, highest, and lowest grades. It should also track which students are passing or failing based on a passing grade threshold.\n",
    "\n",
    "Explanation:\n",
    "\n",
    "Create a program that allows the user to manage a list of students and their grades.\n",
    "\n",
    "The user should be able to:\n",
    "\n",
    "    Add a new student and assign them a grade.\n",
    "\n",
    "    Calculate and display the average grade of the class.\n",
    "\n",
    "    Display the highest and lowest grades.\n",
    "\n",
    "    List students who are passing or failing based on a predefined passing grade (e.g., 50).\n",
    "    \n",
    "The program should repeat until the user chooses to quit."
   ]
  },
  {
   "cell_type": "markdown",
   "metadata": {},
   "source": [
    "Prototype:\n",
    "\n",
    "1. Add a new student\n",
    "2. Display average grade\n",
    "3. Display highest grade\n",
    "4. Display lowest grade\n",
    "5. Show passing students\n",
    "6. Show failing students\n",
    "7. Quit\n",
    "\n",
    "Choose an option: 1\n",
    "\n",
    "Enter student name: Alice\n",
    "\n",
    "Enter grade: 85\n",
    "\n",
    "Student Alice with grade 85 added.\n",
    "\n",
    "Choose an option: 2\n",
    "\n",
    "The average grade is: 75.5\n",
    "\n",
    "Choose an option: 5\n",
    "\n",
    "Students passing:\n",
    "\n",
    "- Alice (85)\n",
    "\n",
    "Choose an option: 6\n",
    "\n",
    "Students failing:\n",
    "\n",
    "- Bob (45)\n",
    "\n",
    "Choose an option: 7\n",
    "\n",
    "Goodbye!\n"
   ]
  }
 ],
 "metadata": {
  "language_info": {
   "name": "python"
  }
 },
 "nbformat": 4,
 "nbformat_minor": 2
}
