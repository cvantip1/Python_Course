{
 "cells": [
  {
   "cell_type": "markdown",
   "metadata": {},
   "source": [
    "Objective: The user has to plan a movie night by selecting their favorite genre and snacks. The program will suggest a movie based on their genre choice and check if they’ve packed all the necessary snacks. The user has a limited number of selections.\n",
    "\n",
    "Explanation:\n",
    "\n",
    "The program allows the user to select a genre from a predefined list (e.g., \"action\", \"comedy\", \"drama\").\n",
    "The program suggests a movie based on the selected genre.\n",
    "The user can also select up to 3 snacks for the movie night.\n",
    "If the user forgets to select certain must-have snacks (e.g., popcorn), the program reminds them."
   ]
  },
  {
   "cell_type": "markdown",
   "metadata": {},
   "source": [
    "Prototype:\n",
    "\n",
    "Welcome to Movie Night! \n",
    "\n",
    "Choose a genre (action, comedy, drama): action\n",
    "\n",
    "You should watch \"Mad Max: Fury Road\"!\n",
    "\n",
    "Select your first snack: popcorn\n",
    "\n",
    "Popcorn added to your list.\n",
    "\n",
    "Select your second snack: soda\n",
    "\n",
    "Soda added to your list.\n",
    "\n",
    "Select your third snack: candy\n",
    "\n",
    "Candy added to your list.\n",
    "\n",
    "Your snack list: ['popcorn', 'soda', 'candy']\n",
    "\n",
    "Enjoy your movie night with \"Mad Max: Fury Road\" and your snacks!\n"
   ]
  },
  {
   "cell_type": "markdown",
   "metadata": {},
   "source": [
    "Hints for the solution:\n",
    "\n",
    "Use a dictionary to map genres to movie recommendations.\n",
    "\n",
    "Use a list to store the user's selected snacks and check if they have included essential snacks like popcorn.\n",
    "\n",
    "Use loops to allow the user to make their selections and display the final plan at the end."
   ]
  }
 ],
 "metadata": {
  "language_info": {
   "name": "python"
  }
 },
 "nbformat": 4,
 "nbformat_minor": 2
}
