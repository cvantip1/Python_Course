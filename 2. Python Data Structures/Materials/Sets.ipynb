{
 "cells": [
  {
   "cell_type": "markdown",
   "metadata": {},
   "source": [
    "Topics:\n",
    "\n",
    "Creating a set\n",
    "\n",
    "Adding and removing elements (add(), remove())\n",
    "\n",
    "Set operations: union, intersection, difference, symmetric difference"
   ]
  },
  {
   "cell_type": "code",
   "execution_count": null,
   "metadata": {},
   "outputs": [],
   "source": [
    "# Creating a set\n",
    "fruits = {\"apple\", \"banana\", \"cherry\"}\n",
    "\n",
    "# Adding elements\n",
    "fruits.add(\"orange\")\n",
    "print(fruits)  # Output: {'orange', 'cherry', 'apple', 'banana'}\n",
    "\n",
    "# Removing elements\n",
    "fruits.remove(\"banana\")\n",
    "print(fruits)  # Output: {'orange', 'cherry', 'apple'}\n",
    "\n",
    "# Set operations\n",
    "set1 = {1, 2, 3}\n",
    "set2 = {3, 4, 5}\n",
    "\n",
    "# Union\n",
    "print(set1 | set2)  # Output: {1, 2, 3, 4, 5}\n",
    "\n",
    "# Intersection\n",
    "print(set1 & set2)  # Output: {3}\n",
    "\n",
    "# Difference\n",
    "print(set1 - set2)  # Output: {1, 2}\n"
   ]
  },
  {
   "cell_type": "markdown",
   "metadata": {},
   "source": [
    "Exercises:\n",
    "\n",
    "Create a set with the numbers 1, 2, 3, 4. Add the number 5 and remove the number 3. Print the final set.\n",
    "\n",
    "Create two sets, set1 = {1, 2, 3} and set2 = {3, 4, 5}, and find the union and intersection of the two sets."
   ]
  }
 ],
 "metadata": {
  "kernelspec": {
   "display_name": "Python 3",
   "language": "python",
   "name": "python3"
  },
  "language_info": {
   "name": "python",
   "version": "3.12.3"
  }
 },
 "nbformat": 4,
 "nbformat_minor": 2
}
