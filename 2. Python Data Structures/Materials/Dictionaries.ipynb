{
 "cells": [
  {
   "cell_type": "markdown",
   "metadata": {},
   "source": [
    "Topics:\n",
    "\n",
    "Creating a dictionary\n",
    "\n",
    "Accessing and modifying key-value pairs\n",
    "\n",
    "Dictionary methods (get(), items(), keys(), values(), pop())\n",
    "\n",
    "Iterating over a dictionary"
   ]
  },
  {
   "cell_type": "code",
   "execution_count": null,
   "metadata": {},
   "outputs": [],
   "source": [
    "# Creating a dictionary\n",
    "person = {\"name\": \"Alice\", \"age\": 25, \"city\": \"New York\"}\n",
    "\n",
    "# Accessing values\n",
    "print(person[\"name\"])  # Output: Alice\n",
    "\n",
    "# Modifying values\n",
    "person[\"age\"] = 26\n",
    "print(person)  # Output: {'name': 'Alice', 'age': 26, 'city': 'New York'}\n",
    "\n",
    "# Adding key-value pairs\n",
    "person[\"profession\"] = \"Engineer\"\n",
    "\n",
    "# Iterating over keys and values\n",
    "for key, value in person.items():\n",
    "    print(f\"{key}: {value}\")\n"
   ]
  },
  {
   "cell_type": "markdown",
   "metadata": {},
   "source": [
    "Exercises:\n",
    "\n",
    "Create a dictionary with information about a car (e.g., {\"brand\": \"Toyota\", \"model\": \"Camry\", \"year\": 2020}). Add a new key-value pair for the color of the car.\n",
    "\n",
    "Access and print the value associated with the model key. Modify the value of the year to 2021 and print the updated dictionary."
   ]
  }
 ],
 "metadata": {
  "kernelspec": {
   "display_name": "Python 3",
   "language": "python",
   "name": "python3"
  },
  "language_info": {
   "name": "python",
   "version": "3.12.3"
  }
 },
 "nbformat": 4,
 "nbformat_minor": 2
}
