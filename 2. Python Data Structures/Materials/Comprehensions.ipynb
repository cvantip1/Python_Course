{
 "cells": [
  {
   "cell_type": "markdown",
   "metadata": {},
   "source": [
    "Topics:\n",
    "\n",
    "Using comprehensions to generate new lists, dictionaries, and sets in a concise way."
   ]
  },
  {
   "cell_type": "code",
   "execution_count": null,
   "metadata": {},
   "outputs": [],
   "source": [
    "# List comprehension\n",
    "squares = [x**2 for x in range(10)]\n",
    "print(squares)  # Output: [0, 1, 4, 9, 16, 25, 36, 49, 64, 81]\n",
    "\n",
    "# Dictionary comprehension\n",
    "numbers = {x: x**2 for x in range(5)}\n",
    "print(numbers)  # Output: {0: 0, 1: 1, 2: 4, 3: 9, 4: 16}\n",
    "\n",
    "# Set comprehension\n",
    "unique_chars = {char for char in \"hello world\" if char != \" \"}\n",
    "print(unique_chars)  # Output: {'r', 'e', 'w', 'l', 'h', 'd', 'o'}\n"
   ]
  },
  {
   "cell_type": "markdown",
   "metadata": {},
   "source": [
    "Exercises:\n",
    "\n",
    "Create a list of the squares of numbers from 1 to 10 using list comprehension.\n",
    "\n",
    "Create a dictionary where the keys are numbers from 1 to 5, and the values are the cubes of those numbers using dictionary comprehension.\n",
    "\n",
    "Create a set of all the vowels in the string \"programming is fun\" using set comprehension.\n"
   ]
  }
 ],
 "metadata": {
  "kernelspec": {
   "display_name": "Python 3",
   "language": "python",
   "name": "python3"
  },
  "language_info": {
   "name": "python",
   "version": "3.12.3"
  }
 },
 "nbformat": 4,
 "nbformat_minor": 2
}
