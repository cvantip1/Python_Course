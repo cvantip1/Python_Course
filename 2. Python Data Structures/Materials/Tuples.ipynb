{
 "cells": [
  {
   "cell_type": "markdown",
   "metadata": {},
   "source": [
    "Topics:\n",
    "\n",
    "Creating a tuple\n",
    "\n",
    "Accessing elements (indexing and slicing)\n",
    "\n",
    "Immutability (tuples cannot be modified)\n",
    "\n",
    "Tuple methods (count(), index())"
   ]
  },
  {
   "cell_type": "code",
   "execution_count": null,
   "metadata": {},
   "outputs": [],
   "source": [
    "# Creating a tuple\n",
    "coordinates = (10, 20, 30)\n",
    "\n",
    "# Accessing elements\n",
    "print(coordinates[1])  # Output: 20\n",
    "\n",
    "# Tuple methods\n",
    "print(coordinates.index(20))  # Output: 1\n"
   ]
  },
  {
   "cell_type": "markdown",
   "metadata": {},
   "source": [
    "Exercises:\n",
    "\n",
    "Create a tuple of three numbers (e.g., (1, 2, 3)). Access and print the last number.\n",
    "\n",
    "Try to modify the second element of the tuple (this should result in an error because tuples are immutable)."
   ]
  }
 ],
 "metadata": {
  "kernelspec": {
   "display_name": "Python 3",
   "language": "python",
   "name": "python3"
  },
  "language_info": {
   "name": "python",
   "version": "3.12.3"
  }
 },
 "nbformat": 4,
 "nbformat_minor": 2
}
