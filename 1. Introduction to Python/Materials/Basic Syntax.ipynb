{
 "cells": [
  {
   "cell_type": "markdown",
   "metadata": {},
   "source": [
    "Topics:\n",
    "\n",
    "Variables and data types (int, float, string, boolean)\n",
    "\n",
    "Arithmetic operators (+, -, *, /, //, %, **)\n",
    "\n",
    "Printing output (print())\n",
    "\n",
    "Input from user (input())\n",
    "\n",
    "Comments and code structure"
   ]
  },
  {
   "cell_type": "code",
   "execution_count": null,
   "metadata": {},
   "outputs": [],
   "source": [
    "# This is a comment\n",
    "# Variables and data types\n",
    "name = \"Alice\"  # String\n",
    "age = 25  # Integer\n",
    "height = 5.4  # Float\n",
    "is_student = True  # Boolean\n",
    "\n",
    "# Printing variables\n",
    "print(\"Name:\", name)\n",
    "print(\"Age:\", age)\n",
    "print(\"Height:\", height)\n",
    "\n",
    "# Arithmetic operations\n",
    "sum_result = age + 5\n",
    "div_result = height / 2\n",
    "power_result = age ** 2\n",
    "\n",
    "# Getting input from user\n",
    "user_name = input(\"Enter your name: \")\n",
    "print(\"Hello, \" + user_name)\n"
   ]
  },
  {
   "cell_type": "markdown",
   "metadata": {},
   "source": [
    "Exercise:\n",
    "\n",
    "Write a program that asks the user for their birth year and calculates their age.\n",
    "\n",
    "Create variables to store the radius of a circle, and calculate the area (πr^2). Use π = 3.1415."
   ]
  }
 ],
 "metadata": {
  "kernelspec": {
   "display_name": "Python 3",
   "language": "python",
   "name": "python3"
  },
  "language_info": {
   "codemirror_mode": {
    "name": "ipython",
    "version": 3
   },
   "file_extension": ".py",
   "mimetype": "text/x-python",
   "name": "python",
   "nbconvert_exporter": "python",
   "pygments_lexer": "ipython3",
   "version": "3.12.3"
  }
 },
 "nbformat": 4,
 "nbformat_minor": 2
}
