{
 "cells": [
  {
   "cell_type": "markdown",
   "metadata": {},
   "source": [
    "Topics:\n",
    "\n",
    "Defining functions\n",
    "\n",
    "Function parameters and return values\n",
    "\n",
    "Default arguments"
   ]
  },
  {
   "cell_type": "code",
   "execution_count": null,
   "metadata": {},
   "outputs": [],
   "source": [
    "# Function with parameters and return\n",
    "def greet(name):\n",
    "    return \"Hello, \" + name\n",
    "\n",
    "# Calling the function\n",
    "message = greet(\"Alice\")\n",
    "print(message)\n",
    "\n",
    "# Function with default argument\n",
    "def power(base, exponent=2):\n",
    "    return base ** exponent\n",
    "\n",
    "print(power(5))  # 5^2\n",
    "print(power(5, 3))  # 5^3\n"
   ]
  },
  {
   "cell_type": "markdown",
   "metadata": {},
   "source": [
    "Exercise:\n",
    "\n",
    "Write a function is_even() that takes a number and returns True if the number is even, otherwise False.\n",
    "\n",
    "Create a function calculate_discount(price, discount_percentage) that returns the final price after applying the discount. Write a program to test the function."
   ]
  }
 ],
 "metadata": {
  "kernelspec": {
   "display_name": "Python 3",
   "language": "python",
   "name": "python3"
  },
  "language_info": {
   "codemirror_mode": {
    "name": "ipython",
    "version": 3
   },
   "file_extension": ".py",
   "mimetype": "text/x-python",
   "name": "python",
   "nbconvert_exporter": "python",
   "pygments_lexer": "ipython3",
   "version": "3.12.3"
  }
 },
 "nbformat": 4,
 "nbformat_minor": 2
}
