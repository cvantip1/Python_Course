{
 "cells": [
  {
   "cell_type": "markdown",
   "metadata": {},
   "source": [
    "Objective: Create a simple shopping cart where users can add items, remove items, view their cart, and checkout. The program calculates the total cost of the items in the cart.\n",
    "\n",
    "Explanation:\n",
    "\n",
    "Create a shopping cart with a few predefined items (like apples, bananas, milk, etc.) and their prices.\n",
    "Users should be able to add items to their cart, remove items, and view the current items in their cart with prices.\n",
    "When the user chooses to checkout, the total cost of the items should be displayed.\n",
    "The program should allow the user to keep adding/removing items until they decide to checkout."
   ]
  },
  {
   "cell_type": "markdown",
   "metadata": {},
   "source": [
    "Prototype:\n",
    "\n",
    "What would you like to do?\n",
    "1. Add item\n",
    "2. Remove item\n",
    "3. View cart\n",
    "4. Checkout\n",
    "5. Quit\n",
    "Enter your choice: 1\n",
    "Enter item to add: apple\n",
    "Apple added to the cart.\n",
    "\n",
    "What would you like to do?\n",
    "1. Add item\n",
    "2. Remove item\n",
    "3. View cart\n",
    "4. Checkout\n",
    "5. Quit\n",
    "Enter your choice: 3\n",
    "Your cart:\n",
    " - Apple ($1)\n",
    " \n",
    "What would you like to do?\n",
    "1. Add item\n",
    "2. Remove item\n",
    "3. View cart\n",
    "4. Checkout\n",
    "5. Quit\n",
    "Enter your choice: 4\n",
    "Your total is: $1.00\n",
    "Thank you for shopping with us!\n"
   ]
  }
 ],
 "metadata": {
  "language_info": {
   "name": "python"
  }
 },
 "nbformat": 4,
 "nbformat_minor": 2
}
