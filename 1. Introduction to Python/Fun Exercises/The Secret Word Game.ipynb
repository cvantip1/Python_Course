{
 "cells": [
  {
   "cell_type": "markdown",
   "metadata": {},
   "source": [
    "Objective: The user has to guess a secret word chosen by the program. The program provides hints after each incorrect guess and tracks the number of attempts. The game should stop when the user guesses the word or runs out of attempts.\n",
    "\n",
    "Explanation:\n",
    "\n",
    "Create a program that picks a secret word from a predefined list.\n",
    "The user will have 5 chances to guess the secret word.\n",
    "After each wrong guess, the program should provide a hint such as \"The word starts with...\" or \"The word ends with...\".\n",
    "If the user guesses correctly, the game should display a congratulatory message.\n",
    "If all attempts are used up, the program should reveal the correct word and end."
   ]
  },
  {
   "cell_type": "markdown",
   "metadata": {},
   "source": [
    "Prototype:\n",
    "\n",
    "Guess the secret word: cloud\n",
    "\n",
    "Wrong guess.\n",
    "\n",
    "The word starts with: s\n",
    "\n",
    "Guess the secret word: snake\n",
    "\n",
    "Wrong guess.\n",
    "\n",
    "The word ends with: k\n",
    "\n",
    "Guess the secret word: snack\n",
    "\n",
    "Wrong guess.\n",
    "\n",
    "The word has 5 letters.\n",
    "\n",
    "Guess the secret word: stack\n",
    "\n",
    "Congratulations! You've guessed the word!\n"
   ]
  }
 ],
 "metadata": {
  "language_info": {
   "name": "python"
  }
 },
 "nbformat": 4,
 "nbformat_minor": 2
}
