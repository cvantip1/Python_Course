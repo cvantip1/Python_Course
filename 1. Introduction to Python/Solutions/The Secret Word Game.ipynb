{
 "cells": [
  {
   "cell_type": "code",
   "execution_count": null,
   "metadata": {},
   "outputs": [],
   "source": [
    "import random\n",
    "\n",
    "# List of secret words\n",
    "secret_words = [\"python\", \"data\", \"jupyter\", \"spark\", \"cloud\"]\n",
    "\n",
    "def get_hint(secret_word, attempt):\n",
    "    \"\"\"Return a hint based on the number of attempts.\"\"\"\n",
    "    if attempt == 1:\n",
    "        return \"The word starts with: \" + secret_word[0]\n",
    "    elif attempt == 2:\n",
    "        return \"The word ends with: \" + secret_word[-1]\n",
    "    elif attempt == 3:\n",
    "        return \"The word has \" + str(len(secret_word)) + \" letters.\"\n",
    "    else:\n",
    "        return \"No more hints!\"\n",
    "\n",
    "def guess_word():\n",
    "    secret_word = random.choice(secret_words)\n",
    "    attempts = 0\n",
    "    max_attempts = 5\n",
    "\n",
    "    while attempts < max_attempts:\n",
    "        guess = input(\"Guess the secret word: \").lower()\n",
    "        attempts += 1\n",
    "\n",
    "        if guess == secret_word:\n",
    "            print(\"Congratulations! You've guessed the word!\")\n",
    "            break\n",
    "        else:\n",
    "            print(\"Wrong guess.\")\n",
    "            if attempts < max_attempts:\n",
    "                print(get_hint(secret_word, attempts))\n",
    "    else:\n",
    "        print(\"You've used all attempts. The secret word was:\", secret_word)\n",
    "\n",
    "guess_word()\n"
   ]
  }
 ],
 "metadata": {
  "kernelspec": {
   "display_name": "Python 3",
   "language": "python",
   "name": "python3"
  },
  "language_info": {
   "name": "python",
   "version": "3.12.3"
  }
 },
 "nbformat": 4,
 "nbformat_minor": 2
}
